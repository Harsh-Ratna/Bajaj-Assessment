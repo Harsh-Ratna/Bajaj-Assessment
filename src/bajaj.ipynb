{
 "cells": [
  {
   "cell_type": "code",
   "execution_count": 30,
   "id": "initial_id",
   "metadata": {
    "collapsed": true,
    "ExecuteTime": {
     "end_time": "2024-07-19T04:55:21.913571Z",
     "start_time": "2024-07-19T04:55:21.910911Z"
    }
   },
   "outputs": [],
   "source": [
    "import pandas as pd\n",
    "import numpy as np\n",
    "import json"
   ]
  },
  {
   "cell_type": "code",
   "outputs": [
    {
     "data": {
      "text/plain": "        _id appointmentId                                     patientDetails  \\\n0  T6hf3rb5     40d2-9c9f  {'_id': 'T6hb630b3', 'firstName': 'Css', 'last...   \n1  T65g3rb5      40dbtc9f  {'_id': 'T6h33b300', 'firstName': 'Lokesh', 'l...   \n2  T7g6Srb5      g3Wt5c9f  {'_id': 'TjhB4373', 'phrId': '63b5hvy614d5', '...   \n3  94bg8W8d      fb6-a535  {'_id': '6df4R5b', 'phrId': '644nig7y', 'first...   \n4  T6h8H56c       67h7KL9  {'_id': 'lK9hy06a', 'firstName': 'Raghu Viju',...   \n\n   phoneNumber                                   consultationData  \n0  96686896670  {'adviceTemplates': [], 'advices': [], 'attach...  \n1   9496368916  {'adviceTemplates': [], 'advices': [], 'attach...  \n2   7787204833  {'adviceTemplates': [], 'advices': [], 'attach...  \n3   9376756879  {'adviceTemplates': [], 'advices': [], 'attach...  \n4   5267384241  {'adviceTemplates': [], 'advices': [], 'attach...  ",
      "text/html": "<div>\n<style scoped>\n    .dataframe tbody tr th:only-of-type {\n        vertical-align: middle;\n    }\n\n    .dataframe tbody tr th {\n        vertical-align: top;\n    }\n\n    .dataframe thead th {\n        text-align: right;\n    }\n</style>\n<table border=\"1\" class=\"dataframe\">\n  <thead>\n    <tr style=\"text-align: right;\">\n      <th></th>\n      <th>_id</th>\n      <th>appointmentId</th>\n      <th>patientDetails</th>\n      <th>phoneNumber</th>\n      <th>consultationData</th>\n    </tr>\n  </thead>\n  <tbody>\n    <tr>\n      <th>0</th>\n      <td>T6hf3rb5</td>\n      <td>40d2-9c9f</td>\n      <td>{'_id': 'T6hb630b3', 'firstName': 'Css', 'last...</td>\n      <td>96686896670</td>\n      <td>{'adviceTemplates': [], 'advices': [], 'attach...</td>\n    </tr>\n    <tr>\n      <th>1</th>\n      <td>T65g3rb5</td>\n      <td>40dbtc9f</td>\n      <td>{'_id': 'T6h33b300', 'firstName': 'Lokesh', 'l...</td>\n      <td>9496368916</td>\n      <td>{'adviceTemplates': [], 'advices': [], 'attach...</td>\n    </tr>\n    <tr>\n      <th>2</th>\n      <td>T7g6Srb5</td>\n      <td>g3Wt5c9f</td>\n      <td>{'_id': 'TjhB4373', 'phrId': '63b5hvy614d5', '...</td>\n      <td>7787204833</td>\n      <td>{'adviceTemplates': [], 'advices': [], 'attach...</td>\n    </tr>\n    <tr>\n      <th>3</th>\n      <td>94bg8W8d</td>\n      <td>fb6-a535</td>\n      <td>{'_id': '6df4R5b', 'phrId': '644nig7y', 'first...</td>\n      <td>9376756879</td>\n      <td>{'adviceTemplates': [], 'advices': [], 'attach...</td>\n    </tr>\n    <tr>\n      <th>4</th>\n      <td>T6h8H56c</td>\n      <td>67h7KL9</td>\n      <td>{'_id': 'lK9hy06a', 'firstName': 'Raghu Viju',...</td>\n      <td>5267384241</td>\n      <td>{'adviceTemplates': [], 'advices': [], 'attach...</td>\n    </tr>\n  </tbody>\n</table>\n</div>"
     },
     "execution_count": 31,
     "metadata": {},
     "output_type": "execute_result"
    }
   ],
   "source": [
    "df = pd.read_json('DataEngineeringQ2.json')\n",
    "df.head()"
   ],
   "metadata": {
    "collapsed": false,
    "ExecuteTime": {
     "end_time": "2024-07-19T04:55:22.609233Z",
     "start_time": "2024-07-19T04:55:22.576720Z"
    }
   },
   "id": "bf61ee8144a1fd87",
   "execution_count": 31
  },
  {
   "cell_type": "code",
   "outputs": [
    {
     "data": {
      "text/plain": "(31, 5)"
     },
     "execution_count": 32,
     "metadata": {},
     "output_type": "execute_result"
    }
   ],
   "source": [
    "df.shape"
   ],
   "metadata": {
    "collapsed": false,
    "ExecuteTime": {
     "end_time": "2024-07-19T04:55:23.479968Z",
     "start_time": "2024-07-19T04:55:23.475385Z"
    }
   },
   "id": "f47851bbeeaaca59",
   "execution_count": 32
  },
  {
   "cell_type": "code",
   "outputs": [],
   "source": [],
   "metadata": {
    "collapsed": false,
    "ExecuteTime": {
     "end_time": "2024-07-19T04:55:24.120577Z",
     "start_time": "2024-07-19T04:55:24.118464Z"
    }
   },
   "id": "24554cc3495b8879",
   "execution_count": 32
  },
  {
   "cell_type": "code",
   "outputs": [
    {
     "data": {
      "text/plain": "                       _id                 firstName     lastName emailId  \\\n0                T6hb630b3                       Css                        \n1                T6h33b300                    Lokesh                        \n2                 TjhB4373                     Shila          Das           \n3                  6df4R5b                   Bhavika  Ben Panchal           \n4                 lK9hy06a                Raghu Viju                        \n5                  kI9d5c6              Dinesh Kumar                        \n6                 i9R324b7                     Lalit     Sankhwal           \n7   T6h41b5ad3d8002ad9c3c4                      Ravi                        \n8                 T9Iy347e                    Dinesh                        \n9                  T4Rb1a2                    Sanjay                        \n10                Tr4T2173                    Akshay       Akshay           \n11                  T6Wa50                   Nirmala                        \n12                 65sRa36                    Satish                        \n13                 UG67231                Kalaiarasi   Kalaiarasi           \n14                 E4u5Ea2              Satyanaaryan                        \n15                 T4E7Ge6                   Nivitha                        \n16                 04Re22d                    Tejpal                        \n17                u7dWa589                  Nandhini                        \n18                 TU7e913                  Dhanamma                        \n19                 H8s2d40                    Kushal                        \n20                   u9cd6                    Daniya        Zehra           \n21                 Pdh97S6                       Jay       Sharma           \n22               h02U8a781                   Preethi                        \n23  T6h40a5ad3d8002ad9c06a  VITTHAL SHANKARRAO GHATE                  NaN   \n24                  Y7sHec                    Naresh                        \n25   T6h408981ayf32b63bcfa                    Suresh      Gaikwad           \n26                T6U67af9                 Govardhan                        \n27                 R53Et5W                Rajeshwari                        \n28                dE3r$2b5                   Santosh                        \n29                 TI93Hd5                 Tarachand                        \n30                 Pdh97S6                       Jay       Sharma           \n\n   gender alternateContact                 birthDate         phrId  \\\n0                                               None           NaN   \n1       M              NaN  1996-05-16T18:30:00.000Z           NaN   \n2     NaN              NaN                       NaN  63b5hvy614d5   \n3       F              NaN  1988-04-24T14:30:00.000Z      644nig7y   \n4     NaN                                        NaN           NaN   \n5       M              NaN  1983-05-16T18:30:00.000Z           NaN   \n6       M                   2003-06-27T14:30:00.000Z      67Yt2b97   \n7     NaN              NaN                       NaN           NaN   \n8       M              NaN  1983-05-16T18:30:00.000Z           NaN   \n9       M              NaN  1998-05-16T18:30:00.000Z           NaN   \n10      M              NaN  1988-04-08T00:00:00.000Z       6E48U79   \n11      F              NaN  1971-05-16T18:30:00.000Z           NaN   \n12    NaN              NaN  1970-05-16T18:30:00.000Z           NaN   \n13      F                   1997-07-31T00:00:00.000Z       T6a7231   \n14    NaN                                        NaN           NaN   \n15      F              NaN  1997-05-16T18:30:00.000Z           NaN   \n16      M              NaN  1972-05-16T18:30:00.000Z           NaN   \n17      F              NaN  2001-05-16T18:30:00.000Z           NaN   \n18      F              NaN                       NaN           NaN   \n19    NaN              NaN                       NaN           NaN   \n20      F              NaN  2001-08-27T00:00:00.000Z    6463U8s231   \n21      M              NaN  1998-11-19T23:30:00.000Z       Jus0480   \n22      F              NaN  1996-05-16T18:30:00.000Z           NaN   \n23    NaN    +917797689682                       NaN           NaN   \n24      M              NaN  1992-05-16T18:30:00.000Z           NaN   \n25    NaN                                        NaN           NaN   \n26    NaN                                        NaN           NaN   \n27      F              NaN  1999-05-16T18:30:00.000Z           NaN   \n28      F              NaN  1972-05-16T18:30:00.000Z           NaN   \n29      M                   1980-03-22T18:30:00.000Z           NaN   \n30      M              NaN  1991-11-19T23:30:00.000Z       Jus0480   \n\n                                           chat      customId  \n0                                           NaN           NaN  \n1                                           NaN           NaN  \n2                                           NaN           NaN  \n3                                           NaN           NaN  \n4                                           NaN           NaN  \n5                           {'_id': '09hUb5c7'}  3FPEUCW8HACJ  \n6                                           NaN           NaN  \n7             {'_id': 'T6h41b5ad3d8002ad9c3c5'}  8AV4ICI5I389  \n8                           {'_id': 'T9IsT37f'}  0308MSAHYR8K  \n9                           {'_id': '7Yd9b1a3'}  8S7A3D4K4WZH  \n10  {'_id': 'Tr4W174', 'channelId': '9IrR9ce7'}  83AH0K04SSTV  \n11            {'_id': 'T6h3635ad3d8002ad9b001'}  832ZIS6ZCAHH  \n12                            {'_id': '6Y6a36'}  YW883CARSES3  \n13                                          NaN           NaN  \n14                           {'_id': 'E4u5Ea2'}       E4u5Ea2  \n15                                          NaN           NaN  \n16                           {'_id': '04Re22d'}       04Re22d  \n17                                          NaN           NaN  \n18                         {'_id': 'u8e6fgd14'}       y7ewr5w  \n19                                          NaN           NaN  \n20                                          NaN           NaN  \n21                                          NaN           NaN  \n22                          {'_id': 'T6h9a782'}     H8NdI3MAW  \n23            {'_id': 'T6h40a1becc5002908b235'}  83AAWWI24W63  \n24                                          NaN           NaN  \n25                           {'_id': 'Hsb690S'}      ABCD1419  \n26                         {'_id': 'u7sg9be5a'}       Gya7sfw  \n27                      {'_id': 'T6h2fT5535c6'}      K44RwH0T  \n28                                          NaN           NaN  \n29                           {'_id': 'TH8W2d6'}       90hjdX2  \n30                                          NaN           NaN  ",
      "text/html": "<div>\n<style scoped>\n    .dataframe tbody tr th:only-of-type {\n        vertical-align: middle;\n    }\n\n    .dataframe tbody tr th {\n        vertical-align: top;\n    }\n\n    .dataframe thead th {\n        text-align: right;\n    }\n</style>\n<table border=\"1\" class=\"dataframe\">\n  <thead>\n    <tr style=\"text-align: right;\">\n      <th></th>\n      <th>_id</th>\n      <th>firstName</th>\n      <th>lastName</th>\n      <th>emailId</th>\n      <th>gender</th>\n      <th>alternateContact</th>\n      <th>birthDate</th>\n      <th>phrId</th>\n      <th>chat</th>\n      <th>customId</th>\n    </tr>\n  </thead>\n  <tbody>\n    <tr>\n      <th>0</th>\n      <td>T6hb630b3</td>\n      <td>Css</td>\n      <td></td>\n      <td></td>\n      <td></td>\n      <td></td>\n      <td>None</td>\n      <td>NaN</td>\n      <td>NaN</td>\n      <td>NaN</td>\n    </tr>\n    <tr>\n      <th>1</th>\n      <td>T6h33b300</td>\n      <td>Lokesh</td>\n      <td></td>\n      <td></td>\n      <td>M</td>\n      <td>NaN</td>\n      <td>1996-05-16T18:30:00.000Z</td>\n      <td>NaN</td>\n      <td>NaN</td>\n      <td>NaN</td>\n    </tr>\n    <tr>\n      <th>2</th>\n      <td>TjhB4373</td>\n      <td>Shila</td>\n      <td>Das</td>\n      <td></td>\n      <td>NaN</td>\n      <td>NaN</td>\n      <td>NaN</td>\n      <td>63b5hvy614d5</td>\n      <td>NaN</td>\n      <td>NaN</td>\n    </tr>\n    <tr>\n      <th>3</th>\n      <td>6df4R5b</td>\n      <td>Bhavika</td>\n      <td>Ben Panchal</td>\n      <td></td>\n      <td>F</td>\n      <td>NaN</td>\n      <td>1988-04-24T14:30:00.000Z</td>\n      <td>644nig7y</td>\n      <td>NaN</td>\n      <td>NaN</td>\n    </tr>\n    <tr>\n      <th>4</th>\n      <td>lK9hy06a</td>\n      <td>Raghu Viju</td>\n      <td></td>\n      <td></td>\n      <td>NaN</td>\n      <td></td>\n      <td>NaN</td>\n      <td>NaN</td>\n      <td>NaN</td>\n      <td>NaN</td>\n    </tr>\n    <tr>\n      <th>5</th>\n      <td>kI9d5c6</td>\n      <td>Dinesh Kumar</td>\n      <td></td>\n      <td></td>\n      <td>M</td>\n      <td>NaN</td>\n      <td>1983-05-16T18:30:00.000Z</td>\n      <td>NaN</td>\n      <td>{'_id': '09hUb5c7'}</td>\n      <td>3FPEUCW8HACJ</td>\n    </tr>\n    <tr>\n      <th>6</th>\n      <td>i9R324b7</td>\n      <td>Lalit</td>\n      <td>Sankhwal</td>\n      <td></td>\n      <td>M</td>\n      <td></td>\n      <td>2003-06-27T14:30:00.000Z</td>\n      <td>67Yt2b97</td>\n      <td>NaN</td>\n      <td>NaN</td>\n    </tr>\n    <tr>\n      <th>7</th>\n      <td>T6h41b5ad3d8002ad9c3c4</td>\n      <td>Ravi</td>\n      <td></td>\n      <td></td>\n      <td>NaN</td>\n      <td>NaN</td>\n      <td>NaN</td>\n      <td>NaN</td>\n      <td>{'_id': 'T6h41b5ad3d8002ad9c3c5'}</td>\n      <td>8AV4ICI5I389</td>\n    </tr>\n    <tr>\n      <th>8</th>\n      <td>T9Iy347e</td>\n      <td>Dinesh</td>\n      <td></td>\n      <td></td>\n      <td>M</td>\n      <td>NaN</td>\n      <td>1983-05-16T18:30:00.000Z</td>\n      <td>NaN</td>\n      <td>{'_id': 'T9IsT37f'}</td>\n      <td>0308MSAHYR8K</td>\n    </tr>\n    <tr>\n      <th>9</th>\n      <td>T4Rb1a2</td>\n      <td>Sanjay</td>\n      <td></td>\n      <td></td>\n      <td>M</td>\n      <td>NaN</td>\n      <td>1998-05-16T18:30:00.000Z</td>\n      <td>NaN</td>\n      <td>{'_id': '7Yd9b1a3'}</td>\n      <td>8S7A3D4K4WZH</td>\n    </tr>\n    <tr>\n      <th>10</th>\n      <td>Tr4T2173</td>\n      <td>Akshay</td>\n      <td>Akshay</td>\n      <td></td>\n      <td>M</td>\n      <td>NaN</td>\n      <td>1988-04-08T00:00:00.000Z</td>\n      <td>6E48U79</td>\n      <td>{'_id': 'Tr4W174', 'channelId': '9IrR9ce7'}</td>\n      <td>83AH0K04SSTV</td>\n    </tr>\n    <tr>\n      <th>11</th>\n      <td>T6Wa50</td>\n      <td>Nirmala</td>\n      <td></td>\n      <td></td>\n      <td>F</td>\n      <td>NaN</td>\n      <td>1971-05-16T18:30:00.000Z</td>\n      <td>NaN</td>\n      <td>{'_id': 'T6h3635ad3d8002ad9b001'}</td>\n      <td>832ZIS6ZCAHH</td>\n    </tr>\n    <tr>\n      <th>12</th>\n      <td>65sRa36</td>\n      <td>Satish</td>\n      <td></td>\n      <td></td>\n      <td>NaN</td>\n      <td>NaN</td>\n      <td>1970-05-16T18:30:00.000Z</td>\n      <td>NaN</td>\n      <td>{'_id': '6Y6a36'}</td>\n      <td>YW883CARSES3</td>\n    </tr>\n    <tr>\n      <th>13</th>\n      <td>UG67231</td>\n      <td>Kalaiarasi</td>\n      <td>Kalaiarasi</td>\n      <td></td>\n      <td>F</td>\n      <td></td>\n      <td>1997-07-31T00:00:00.000Z</td>\n      <td>T6a7231</td>\n      <td>NaN</td>\n      <td>NaN</td>\n    </tr>\n    <tr>\n      <th>14</th>\n      <td>E4u5Ea2</td>\n      <td>Satyanaaryan</td>\n      <td></td>\n      <td></td>\n      <td>NaN</td>\n      <td></td>\n      <td>NaN</td>\n      <td>NaN</td>\n      <td>{'_id': 'E4u5Ea2'}</td>\n      <td>E4u5Ea2</td>\n    </tr>\n    <tr>\n      <th>15</th>\n      <td>T4E7Ge6</td>\n      <td>Nivitha</td>\n      <td></td>\n      <td></td>\n      <td>F</td>\n      <td>NaN</td>\n      <td>1997-05-16T18:30:00.000Z</td>\n      <td>NaN</td>\n      <td>NaN</td>\n      <td>NaN</td>\n    </tr>\n    <tr>\n      <th>16</th>\n      <td>04Re22d</td>\n      <td>Tejpal</td>\n      <td></td>\n      <td></td>\n      <td>M</td>\n      <td>NaN</td>\n      <td>1972-05-16T18:30:00.000Z</td>\n      <td>NaN</td>\n      <td>{'_id': '04Re22d'}</td>\n      <td>04Re22d</td>\n    </tr>\n    <tr>\n      <th>17</th>\n      <td>u7dWa589</td>\n      <td>Nandhini</td>\n      <td></td>\n      <td></td>\n      <td>F</td>\n      <td>NaN</td>\n      <td>2001-05-16T18:30:00.000Z</td>\n      <td>NaN</td>\n      <td>NaN</td>\n      <td>NaN</td>\n    </tr>\n    <tr>\n      <th>18</th>\n      <td>TU7e913</td>\n      <td>Dhanamma</td>\n      <td></td>\n      <td></td>\n      <td>F</td>\n      <td>NaN</td>\n      <td>NaN</td>\n      <td>NaN</td>\n      <td>{'_id': 'u8e6fgd14'}</td>\n      <td>y7ewr5w</td>\n    </tr>\n    <tr>\n      <th>19</th>\n      <td>H8s2d40</td>\n      <td>Kushal</td>\n      <td></td>\n      <td></td>\n      <td>NaN</td>\n      <td>NaN</td>\n      <td>NaN</td>\n      <td>NaN</td>\n      <td>NaN</td>\n      <td>NaN</td>\n    </tr>\n    <tr>\n      <th>20</th>\n      <td>u9cd6</td>\n      <td>Daniya</td>\n      <td>Zehra</td>\n      <td></td>\n      <td>F</td>\n      <td>NaN</td>\n      <td>2001-08-27T00:00:00.000Z</td>\n      <td>6463U8s231</td>\n      <td>NaN</td>\n      <td>NaN</td>\n    </tr>\n    <tr>\n      <th>21</th>\n      <td>Pdh97S6</td>\n      <td>Jay</td>\n      <td>Sharma</td>\n      <td></td>\n      <td>M</td>\n      <td>NaN</td>\n      <td>1998-11-19T23:30:00.000Z</td>\n      <td>Jus0480</td>\n      <td>NaN</td>\n      <td>NaN</td>\n    </tr>\n    <tr>\n      <th>22</th>\n      <td>h02U8a781</td>\n      <td>Preethi</td>\n      <td></td>\n      <td></td>\n      <td>F</td>\n      <td>NaN</td>\n      <td>1996-05-16T18:30:00.000Z</td>\n      <td>NaN</td>\n      <td>{'_id': 'T6h9a782'}</td>\n      <td>H8NdI3MAW</td>\n    </tr>\n    <tr>\n      <th>23</th>\n      <td>T6h40a5ad3d8002ad9c06a</td>\n      <td>VITTHAL SHANKARRAO GHATE</td>\n      <td></td>\n      <td>NaN</td>\n      <td>NaN</td>\n      <td>+917797689682</td>\n      <td>NaN</td>\n      <td>NaN</td>\n      <td>{'_id': 'T6h40a1becc5002908b235'}</td>\n      <td>83AAWWI24W63</td>\n    </tr>\n    <tr>\n      <th>24</th>\n      <td>Y7sHec</td>\n      <td>Naresh</td>\n      <td></td>\n      <td></td>\n      <td>M</td>\n      <td>NaN</td>\n      <td>1992-05-16T18:30:00.000Z</td>\n      <td>NaN</td>\n      <td>NaN</td>\n      <td>NaN</td>\n    </tr>\n    <tr>\n      <th>25</th>\n      <td>T6h408981ayf32b63bcfa</td>\n      <td>Suresh</td>\n      <td>Gaikwad</td>\n      <td></td>\n      <td>NaN</td>\n      <td></td>\n      <td>NaN</td>\n      <td>NaN</td>\n      <td>{'_id': 'Hsb690S'}</td>\n      <td>ABCD1419</td>\n    </tr>\n    <tr>\n      <th>26</th>\n      <td>T6U67af9</td>\n      <td>Govardhan</td>\n      <td></td>\n      <td></td>\n      <td>NaN</td>\n      <td></td>\n      <td>NaN</td>\n      <td>NaN</td>\n      <td>{'_id': 'u7sg9be5a'}</td>\n      <td>Gya7sfw</td>\n    </tr>\n    <tr>\n      <th>27</th>\n      <td>R53Et5W</td>\n      <td>Rajeshwari</td>\n      <td></td>\n      <td></td>\n      <td>F</td>\n      <td>NaN</td>\n      <td>1999-05-16T18:30:00.000Z</td>\n      <td>NaN</td>\n      <td>{'_id': 'T6h2fT5535c6'}</td>\n      <td>K44RwH0T</td>\n    </tr>\n    <tr>\n      <th>28</th>\n      <td>dE3r$2b5</td>\n      <td>Santosh</td>\n      <td></td>\n      <td></td>\n      <td>F</td>\n      <td>NaN</td>\n      <td>1972-05-16T18:30:00.000Z</td>\n      <td>NaN</td>\n      <td>NaN</td>\n      <td>NaN</td>\n    </tr>\n    <tr>\n      <th>29</th>\n      <td>TI93Hd5</td>\n      <td>Tarachand</td>\n      <td></td>\n      <td></td>\n      <td>M</td>\n      <td></td>\n      <td>1980-03-22T18:30:00.000Z</td>\n      <td>NaN</td>\n      <td>{'_id': 'TH8W2d6'}</td>\n      <td>90hjdX2</td>\n    </tr>\n    <tr>\n      <th>30</th>\n      <td>Pdh97S6</td>\n      <td>Jay</td>\n      <td>Sharma</td>\n      <td></td>\n      <td>M</td>\n      <td>NaN</td>\n      <td>1991-11-19T23:30:00.000Z</td>\n      <td>Jus0480</td>\n      <td>NaN</td>\n      <td>NaN</td>\n    </tr>\n  </tbody>\n</table>\n</div>"
     },
     "execution_count": 33,
     "metadata": {},
     "output_type": "execute_result"
    }
   ],
   "source": [
    "patient_details_dict = df.patientDetails.to_dict()\n",
    "patient_details_df = pd.DataFrame(patient_details_dict)\n",
    "patient_details_df.head()\n",
    "patient_details_df = patient_details_df.transpose()\n",
    "patient_details_df"
   ],
   "metadata": {
    "collapsed": false,
    "ExecuteTime": {
     "end_time": "2024-07-19T04:55:29.529613Z",
     "start_time": "2024-07-19T04:55:29.515716Z"
    }
   },
   "id": "5930e919b6121252",
   "execution_count": 33
  },
  {
   "cell_type": "code",
   "outputs": [
    {
     "name": "stdout",
     "output_type": "stream",
     "text": [
      "0\n",
      "22\n",
      "1\n"
     ]
    }
   ],
   "source": [
    "missing_lastName = patient_details_df['lastName'].isin(['', ' ']).sum()\n",
    "missing_firstName = patient_details_df['firstName'].isin(['', ' ']).sum()\n",
    "missing_DOB_edge_cases = patient_details_df['birthDate'].isin([None]).sum()\n",
    "print(missing_firstName)\n",
    "print(missing_lastName)\n",
    "print(missing_DOB_edge_cases)"
   ],
   "metadata": {
    "collapsed": false,
    "ExecuteTime": {
     "end_time": "2024-07-19T05:14:22.065236Z",
     "start_time": "2024-07-19T05:14:22.060258Z"
    }
   },
   "id": "b658ff38b71747f",
   "execution_count": 87
  },
  {
   "cell_type": "code",
   "outputs": [],
   "source": [],
   "metadata": {
    "collapsed": false,
    "ExecuteTime": {
     "end_time": "2024-07-19T04:55:33.742643Z",
     "start_time": "2024-07-19T04:55:33.738531Z"
    }
   },
   "id": "2cd5e9ced8823318",
   "execution_count": 36
  },
  {
   "cell_type": "code",
   "outputs": [],
   "source": [
    "percent_missing_firstName = round(((missing_firstName / patient_details_df.shape[0]) * 100),2)\n",
    "percent_missing_lastName = round(((missing_lastName / patient_details_df.shape[0]) * 100), 2)\n",
    "percent_missing_dob =round((((missing_DOB_edge_cases + patient_details_df['birthDate'].isnull().sum()) / patient_details_df.shape[0]) * 100),2)"
   ],
   "metadata": {
    "collapsed": false,
    "ExecuteTime": {
     "end_time": "2024-07-19T05:12:54.091600Z",
     "start_time": "2024-07-19T05:12:54.087469Z"
    }
   },
   "id": "d70398c2b6b2b854",
   "execution_count": 83
  },
  {
   "cell_type": "code",
   "outputs": [
    {
     "name": "stdout",
     "output_type": "stream",
     "text": [
      "0.0\n",
      "70.97\n",
      "35.48\n"
     ]
    }
   ],
   "source": [
    "print(percent_missing_firstName * 100)\n",
    "print(percent_missing_lastName)\n",
    "print(percent_missing_dob)"
   ],
   "metadata": {
    "collapsed": false,
    "ExecuteTime": {
     "end_time": "2024-07-19T05:12:56.249569Z",
     "start_time": "2024-07-19T05:12:56.246484Z"
    }
   },
   "id": "7378730df51b15ca",
   "execution_count": 84
  },
  {
   "cell_type": "code",
   "outputs": [
    {
     "name": "stdout",
     "output_type": "stream",
     "text": [
      "10\n"
     ]
    }
   ],
   "source": [
    "gender_missing_values = patient_details_df['gender'].isnull().sum() + patient_details_df['gender'].isin(['', ' ']).sum()\n",
    "print(gender_missing_values)"
   ],
   "metadata": {
    "collapsed": false,
    "ExecuteTime": {
     "end_time": "2024-07-19T04:57:54.921382Z",
     "start_time": "2024-07-19T04:57:54.917145Z"
    }
   },
   "id": "760864b6e429d84d",
   "execution_count": 44
  },
  {
   "cell_type": "code",
   "outputs": [
    {
     "name": "stdout",
     "output_type": "stream",
     "text": [
      "M\n"
     ]
    }
   ],
   "source": [
    "gender_mode = patient_details_df['gender'].mode()\n",
    "gender_mode = gender_mode.tolist()[0]\n",
    "print(gender_mode)"
   ],
   "metadata": {
    "collapsed": false,
    "ExecuteTime": {
     "end_time": "2024-07-19T05:03:49.876192Z",
     "start_time": "2024-07-19T05:03:49.872466Z"
    }
   },
   "id": "5421a427f063a15f",
   "execution_count": 63
  },
  {
   "cell_type": "code",
   "outputs": [
    {
     "name": "stdout",
     "output_type": "stream",
     "text": [
      "10\n"
     ]
    }
   ],
   "source": [
    "gender_missing_values = patient_details_df['gender'].isnull().sum() + patient_details_df['gender'].isin(['', ' ']).sum()\n",
    "print(gender_missing_values)"
   ],
   "metadata": {
    "collapsed": false,
    "ExecuteTime": {
     "end_time": "2024-07-19T05:03:55.912769Z",
     "start_time": "2024-07-19T05:03:55.908262Z"
    }
   },
   "id": "cb1966a162715e01",
   "execution_count": 64
  },
  {
   "cell_type": "code",
   "outputs": [],
   "source": [
    "patient_details_df['gender'].fillna(gender_mode, inplace = True)"
   ],
   "metadata": {
    "collapsed": false,
    "ExecuteTime": {
     "end_time": "2024-07-19T05:05:05.763369Z",
     "start_time": "2024-07-19T05:05:05.759803Z"
    }
   },
   "id": "13ae3db6a65928f8",
   "execution_count": 67
  },
  {
   "cell_type": "code",
   "outputs": [
    {
     "data": {
      "text/plain": "0     M\n1     M\n2     M\n3     F\n4     M\n5     M\n6     M\n7     M\n8     M\n9     M\n10    M\n11    F\n12    M\n13    F\n14    M\n15    F\n16    M\n17    F\n18    F\n19    M\n20    F\n21    M\n22    F\n23    M\n24    M\n25    M\n26    M\n27    F\n28    F\n29    M\n30    M\nName: gender, dtype: object"
     },
     "execution_count": 68,
     "metadata": {},
     "output_type": "execute_result"
    }
   ],
   "source": [
    "patient_details_df['gender'].replace(['', ' '], gender_mode)"
   ],
   "metadata": {
    "collapsed": false,
    "ExecuteTime": {
     "end_time": "2024-07-19T05:05:08.633182Z",
     "start_time": "2024-07-19T05:05:08.626874Z"
    }
   },
   "id": "3e22fdb7871bf4c9",
   "execution_count": 68
  },
  {
   "cell_type": "code",
   "outputs": [
    {
     "name": "stdout",
     "output_type": "stream",
     "text": [
      "10\n"
     ]
    }
   ],
   "source": [
    "no_of_females = patient_details_df[patient_details_df['gender'] == 'F']\n",
    "no_of_females = no_of_females.shape[0]\n",
    "print(no_of_females)"
   ],
   "metadata": {
    "collapsed": false,
    "ExecuteTime": {
     "end_time": "2024-07-19T05:07:35.210445Z",
     "start_time": "2024-07-19T05:07:35.205683Z"
    }
   },
   "id": "bb480fc46086e6f3",
   "execution_count": 76
  },
  {
   "cell_type": "code",
   "outputs": [
    {
     "name": "stdout",
     "output_type": "stream",
     "text": [
      "32.26\n"
     ]
    }
   ],
   "source": [
    "percent_females = round((no_of_females / patient_details_df.shape[0] * 100), 2)\n",
    "print(percent_females)"
   ],
   "metadata": {
    "collapsed": false,
    "ExecuteTime": {
     "end_time": "2024-07-19T05:08:43.153134Z",
     "start_time": "2024-07-19T05:08:43.149047Z"
    }
   },
   "id": "27c92f216f7225aa",
   "execution_count": 77
  },
  {
   "cell_type": "code",
   "outputs": [
    {
     "data": {
      "text/plain": "          _id     firstName     lastName emailId gender alternateContact  \\\n1   T6h33b300        Lokesh                           M              NaN   \n3     6df4R5b       Bhavika  Ben Panchal              F              NaN   \n5     kI9d5c6  Dinesh Kumar                           M              NaN   \n6    i9R324b7         Lalit     Sankhwal              M                    \n8    T9Iy347e        Dinesh                           M              NaN   \n9     T4Rb1a2        Sanjay                           M              NaN   \n10   Tr4T2173        Akshay       Akshay              M              NaN   \n11     T6Wa50       Nirmala                           F              NaN   \n12    65sRa36        Satish                           M              NaN   \n13    UG67231    Kalaiarasi   Kalaiarasi              F                    \n15    T4E7Ge6       Nivitha                           F              NaN   \n16    04Re22d        Tejpal                           M              NaN   \n17   u7dWa589      Nandhini                           F              NaN   \n20      u9cd6        Daniya        Zehra              F              NaN   \n21    Pdh97S6           Jay       Sharma              M              NaN   \n22  h02U8a781       Preethi                           F              NaN   \n24     Y7sHec        Naresh                           M              NaN   \n27    R53Et5W    Rajeshwari                           F              NaN   \n28   dE3r$2b5       Santosh                           F              NaN   \n29    TI93Hd5     Tarachand                           M                    \n30    Pdh97S6           Jay       Sharma              M              NaN   \n\n                   birthDate       phrId  \\\n1   1996-05-16T18:30:00.000Z         NaN   \n3   1988-04-24T14:30:00.000Z    644nig7y   \n5   1983-05-16T18:30:00.000Z         NaN   \n6   2003-06-27T14:30:00.000Z    67Yt2b97   \n8   1983-05-16T18:30:00.000Z         NaN   \n9   1998-05-16T18:30:00.000Z         NaN   \n10  1988-04-08T00:00:00.000Z     6E48U79   \n11  1971-05-16T18:30:00.000Z         NaN   \n12  1970-05-16T18:30:00.000Z         NaN   \n13  1997-07-31T00:00:00.000Z     T6a7231   \n15  1997-05-16T18:30:00.000Z         NaN   \n16  1972-05-16T18:30:00.000Z         NaN   \n17  2001-05-16T18:30:00.000Z         NaN   \n20  2001-08-27T00:00:00.000Z  6463U8s231   \n21  1998-11-19T23:30:00.000Z     Jus0480   \n22  1996-05-16T18:30:00.000Z         NaN   \n24  1992-05-16T18:30:00.000Z         NaN   \n27  1999-05-16T18:30:00.000Z         NaN   \n28  1972-05-16T18:30:00.000Z         NaN   \n29  1980-03-22T18:30:00.000Z         NaN   \n30  1991-11-19T23:30:00.000Z     Jus0480   \n\n                                           chat      customId  \n1                                           NaN           NaN  \n3                                           NaN           NaN  \n5                           {'_id': '09hUb5c7'}  3FPEUCW8HACJ  \n6                                           NaN           NaN  \n8                           {'_id': 'T9IsT37f'}  0308MSAHYR8K  \n9                           {'_id': '7Yd9b1a3'}  8S7A3D4K4WZH  \n10  {'_id': 'Tr4W174', 'channelId': '9IrR9ce7'}  83AH0K04SSTV  \n11            {'_id': 'T6h3635ad3d8002ad9b001'}  832ZIS6ZCAHH  \n12                            {'_id': '6Y6a36'}  YW883CARSES3  \n13                                          NaN           NaN  \n15                                          NaN           NaN  \n16                           {'_id': '04Re22d'}       04Re22d  \n17                                          NaN           NaN  \n20                                          NaN           NaN  \n21                                          NaN           NaN  \n22                          {'_id': 'T6h9a782'}     H8NdI3MAW  \n24                                          NaN           NaN  \n27                      {'_id': 'T6h2fT5535c6'}      K44RwH0T  \n28                                          NaN           NaN  \n29                           {'_id': 'TH8W2d6'}       90hjdX2  \n30                                          NaN           NaN  ",
      "text/html": "<div>\n<style scoped>\n    .dataframe tbody tr th:only-of-type {\n        vertical-align: middle;\n    }\n\n    .dataframe tbody tr th {\n        vertical-align: top;\n    }\n\n    .dataframe thead th {\n        text-align: right;\n    }\n</style>\n<table border=\"1\" class=\"dataframe\">\n  <thead>\n    <tr style=\"text-align: right;\">\n      <th></th>\n      <th>_id</th>\n      <th>firstName</th>\n      <th>lastName</th>\n      <th>emailId</th>\n      <th>gender</th>\n      <th>alternateContact</th>\n      <th>birthDate</th>\n      <th>phrId</th>\n      <th>chat</th>\n      <th>customId</th>\n    </tr>\n  </thead>\n  <tbody>\n    <tr>\n      <th>1</th>\n      <td>T6h33b300</td>\n      <td>Lokesh</td>\n      <td></td>\n      <td></td>\n      <td>M</td>\n      <td>NaN</td>\n      <td>1996-05-16T18:30:00.000Z</td>\n      <td>NaN</td>\n      <td>NaN</td>\n      <td>NaN</td>\n    </tr>\n    <tr>\n      <th>3</th>\n      <td>6df4R5b</td>\n      <td>Bhavika</td>\n      <td>Ben Panchal</td>\n      <td></td>\n      <td>F</td>\n      <td>NaN</td>\n      <td>1988-04-24T14:30:00.000Z</td>\n      <td>644nig7y</td>\n      <td>NaN</td>\n      <td>NaN</td>\n    </tr>\n    <tr>\n      <th>5</th>\n      <td>kI9d5c6</td>\n      <td>Dinesh Kumar</td>\n      <td></td>\n      <td></td>\n      <td>M</td>\n      <td>NaN</td>\n      <td>1983-05-16T18:30:00.000Z</td>\n      <td>NaN</td>\n      <td>{'_id': '09hUb5c7'}</td>\n      <td>3FPEUCW8HACJ</td>\n    </tr>\n    <tr>\n      <th>6</th>\n      <td>i9R324b7</td>\n      <td>Lalit</td>\n      <td>Sankhwal</td>\n      <td></td>\n      <td>M</td>\n      <td></td>\n      <td>2003-06-27T14:30:00.000Z</td>\n      <td>67Yt2b97</td>\n      <td>NaN</td>\n      <td>NaN</td>\n    </tr>\n    <tr>\n      <th>8</th>\n      <td>T9Iy347e</td>\n      <td>Dinesh</td>\n      <td></td>\n      <td></td>\n      <td>M</td>\n      <td>NaN</td>\n      <td>1983-05-16T18:30:00.000Z</td>\n      <td>NaN</td>\n      <td>{'_id': 'T9IsT37f'}</td>\n      <td>0308MSAHYR8K</td>\n    </tr>\n    <tr>\n      <th>9</th>\n      <td>T4Rb1a2</td>\n      <td>Sanjay</td>\n      <td></td>\n      <td></td>\n      <td>M</td>\n      <td>NaN</td>\n      <td>1998-05-16T18:30:00.000Z</td>\n      <td>NaN</td>\n      <td>{'_id': '7Yd9b1a3'}</td>\n      <td>8S7A3D4K4WZH</td>\n    </tr>\n    <tr>\n      <th>10</th>\n      <td>Tr4T2173</td>\n      <td>Akshay</td>\n      <td>Akshay</td>\n      <td></td>\n      <td>M</td>\n      <td>NaN</td>\n      <td>1988-04-08T00:00:00.000Z</td>\n      <td>6E48U79</td>\n      <td>{'_id': 'Tr4W174', 'channelId': '9IrR9ce7'}</td>\n      <td>83AH0K04SSTV</td>\n    </tr>\n    <tr>\n      <th>11</th>\n      <td>T6Wa50</td>\n      <td>Nirmala</td>\n      <td></td>\n      <td></td>\n      <td>F</td>\n      <td>NaN</td>\n      <td>1971-05-16T18:30:00.000Z</td>\n      <td>NaN</td>\n      <td>{'_id': 'T6h3635ad3d8002ad9b001'}</td>\n      <td>832ZIS6ZCAHH</td>\n    </tr>\n    <tr>\n      <th>12</th>\n      <td>65sRa36</td>\n      <td>Satish</td>\n      <td></td>\n      <td></td>\n      <td>M</td>\n      <td>NaN</td>\n      <td>1970-05-16T18:30:00.000Z</td>\n      <td>NaN</td>\n      <td>{'_id': '6Y6a36'}</td>\n      <td>YW883CARSES3</td>\n    </tr>\n    <tr>\n      <th>13</th>\n      <td>UG67231</td>\n      <td>Kalaiarasi</td>\n      <td>Kalaiarasi</td>\n      <td></td>\n      <td>F</td>\n      <td></td>\n      <td>1997-07-31T00:00:00.000Z</td>\n      <td>T6a7231</td>\n      <td>NaN</td>\n      <td>NaN</td>\n    </tr>\n    <tr>\n      <th>15</th>\n      <td>T4E7Ge6</td>\n      <td>Nivitha</td>\n      <td></td>\n      <td></td>\n      <td>F</td>\n      <td>NaN</td>\n      <td>1997-05-16T18:30:00.000Z</td>\n      <td>NaN</td>\n      <td>NaN</td>\n      <td>NaN</td>\n    </tr>\n    <tr>\n      <th>16</th>\n      <td>04Re22d</td>\n      <td>Tejpal</td>\n      <td></td>\n      <td></td>\n      <td>M</td>\n      <td>NaN</td>\n      <td>1972-05-16T18:30:00.000Z</td>\n      <td>NaN</td>\n      <td>{'_id': '04Re22d'}</td>\n      <td>04Re22d</td>\n    </tr>\n    <tr>\n      <th>17</th>\n      <td>u7dWa589</td>\n      <td>Nandhini</td>\n      <td></td>\n      <td></td>\n      <td>F</td>\n      <td>NaN</td>\n      <td>2001-05-16T18:30:00.000Z</td>\n      <td>NaN</td>\n      <td>NaN</td>\n      <td>NaN</td>\n    </tr>\n    <tr>\n      <th>20</th>\n      <td>u9cd6</td>\n      <td>Daniya</td>\n      <td>Zehra</td>\n      <td></td>\n      <td>F</td>\n      <td>NaN</td>\n      <td>2001-08-27T00:00:00.000Z</td>\n      <td>6463U8s231</td>\n      <td>NaN</td>\n      <td>NaN</td>\n    </tr>\n    <tr>\n      <th>21</th>\n      <td>Pdh97S6</td>\n      <td>Jay</td>\n      <td>Sharma</td>\n      <td></td>\n      <td>M</td>\n      <td>NaN</td>\n      <td>1998-11-19T23:30:00.000Z</td>\n      <td>Jus0480</td>\n      <td>NaN</td>\n      <td>NaN</td>\n    </tr>\n    <tr>\n      <th>22</th>\n      <td>h02U8a781</td>\n      <td>Preethi</td>\n      <td></td>\n      <td></td>\n      <td>F</td>\n      <td>NaN</td>\n      <td>1996-05-16T18:30:00.000Z</td>\n      <td>NaN</td>\n      <td>{'_id': 'T6h9a782'}</td>\n      <td>H8NdI3MAW</td>\n    </tr>\n    <tr>\n      <th>24</th>\n      <td>Y7sHec</td>\n      <td>Naresh</td>\n      <td></td>\n      <td></td>\n      <td>M</td>\n      <td>NaN</td>\n      <td>1992-05-16T18:30:00.000Z</td>\n      <td>NaN</td>\n      <td>NaN</td>\n      <td>NaN</td>\n    </tr>\n    <tr>\n      <th>27</th>\n      <td>R53Et5W</td>\n      <td>Rajeshwari</td>\n      <td></td>\n      <td></td>\n      <td>F</td>\n      <td>NaN</td>\n      <td>1999-05-16T18:30:00.000Z</td>\n      <td>NaN</td>\n      <td>{'_id': 'T6h2fT5535c6'}</td>\n      <td>K44RwH0T</td>\n    </tr>\n    <tr>\n      <th>28</th>\n      <td>dE3r$2b5</td>\n      <td>Santosh</td>\n      <td></td>\n      <td></td>\n      <td>F</td>\n      <td>NaN</td>\n      <td>1972-05-16T18:30:00.000Z</td>\n      <td>NaN</td>\n      <td>NaN</td>\n      <td>NaN</td>\n    </tr>\n    <tr>\n      <th>29</th>\n      <td>TI93Hd5</td>\n      <td>Tarachand</td>\n      <td></td>\n      <td></td>\n      <td>M</td>\n      <td></td>\n      <td>1980-03-22T18:30:00.000Z</td>\n      <td>NaN</td>\n      <td>{'_id': 'TH8W2d6'}</td>\n      <td>90hjdX2</td>\n    </tr>\n    <tr>\n      <th>30</th>\n      <td>Pdh97S6</td>\n      <td>Jay</td>\n      <td>Sharma</td>\n      <td></td>\n      <td>M</td>\n      <td>NaN</td>\n      <td>1991-11-19T23:30:00.000Z</td>\n      <td>Jus0480</td>\n      <td>NaN</td>\n      <td>NaN</td>\n    </tr>\n  </tbody>\n</table>\n</div>"
     },
     "execution_count": 94,
     "metadata": {},
     "output_type": "execute_result"
    }
   ],
   "source": [
    "dob_df = patient_details_df.dropna(subset='birthDate')\n",
    "dob_df.mask(df.eq(None)).dropna()\n",
    "dob_df"
   ],
   "metadata": {
    "collapsed": false,
    "ExecuteTime": {
     "end_time": "2024-07-19T05:19:49.691005Z",
     "start_time": "2024-07-19T05:19:49.676240Z"
    }
   },
   "id": "6dbcc35664a2665c",
   "execution_count": 94
  },
  {
   "cell_type": "code",
   "outputs": [
    {
     "name": "stderr",
     "output_type": "stream",
     "text": [
      "C:\\Users\\HP\\AppData\\Local\\Temp\\ipykernel_21836\\943234684.py:1: SettingWithCopyWarning: \n",
      "A value is trying to be set on a copy of a slice from a DataFrame.\n",
      "Try using .loc[row_indexer,col_indexer] = value instead\n",
      "\n",
      "See the caveats in the documentation: https://pandas.pydata.org/pandas-docs/stable/user_guide/indexing.html#returning-a-view-versus-a-copy\n",
      "  dob_df['birthDate'] = dob_df['birthDate'].apply(lambda x: x.split('-')[0])\n"
     ]
    }
   ],
   "source": [
    "dob_df['birthDate'] = dob_df['birthDate'].apply(lambda x: x.split('-')[0])"
   ],
   "metadata": {
    "collapsed": false,
    "ExecuteTime": {
     "end_time": "2024-07-19T05:22:03.466814Z",
     "start_time": "2024-07-19T05:22:03.463251Z"
    }
   },
   "id": "1470915ce5bf595b",
   "execution_count": 99
  },
  {
   "cell_type": "code",
   "outputs": [
    {
     "data": {
      "text/plain": "1     28\n3     36\n5     41\n6     21\n8     41\n9     26\n10    36\n11    53\n12    54\n13    27\n15    27\n16    52\n17    23\n20    23\n21    26\n22    28\n24    32\n27    25\n28    52\n29    44\n30    33\nName: birthDate, dtype: int64"
     },
     "execution_count": 100,
     "metadata": {},
     "output_type": "execute_result"
    }
   ],
   "source": [
    "dob_df['birthDate'].apply(lambda x: 2024 - int(x))"
   ],
   "metadata": {
    "collapsed": false,
    "ExecuteTime": {
     "end_time": "2024-07-19T05:22:05.575779Z",
     "start_time": "2024-07-19T05:22:05.570602Z"
    }
   },
   "id": "9b60f617b0894973",
   "execution_count": 100
  },
  {
   "cell_type": "code",
   "outputs": [
    {
     "ename": "ValueError",
     "evalue": "invalid literal for int() with base 10: 'Adult'",
     "output_type": "error",
     "traceback": [
      "\u001B[1;31m---------------------------------------------------------------------------\u001B[0m",
      "\u001B[1;31mValueError\u001B[0m                                Traceback (most recent call last)",
      "Cell \u001B[1;32mIn[111], line 2\u001B[0m\n\u001B[0;32m      1\u001B[0m \u001B[38;5;28;01mfor\u001B[39;00m row \u001B[38;5;129;01min\u001B[39;00m dob_df[\u001B[38;5;124m'\u001B[39m\u001B[38;5;124mbirthDate\u001B[39m\u001B[38;5;124m'\u001B[39m]:\n\u001B[1;32m----> 2\u001B[0m     age \u001B[38;5;241m=\u001B[39m \u001B[38;5;241m2024\u001B[39m \u001B[38;5;241m-\u001B[39m \u001B[38;5;28;43mint\u001B[39;49m\u001B[43m(\u001B[49m\u001B[43mrow\u001B[49m\u001B[43m)\u001B[49m\n\u001B[0;32m      3\u001B[0m     \u001B[38;5;28;01mif\u001B[39;00m age \u001B[38;5;241m>\u001B[39m \u001B[38;5;241m12\u001B[39m \u001B[38;5;129;01mand\u001B[39;00m age \u001B[38;5;241m<\u001B[39m \u001B[38;5;241m20\u001B[39m:\n\u001B[0;32m      4\u001B[0m         dob_df[\u001B[38;5;124m'\u001B[39m\u001B[38;5;124mage_group\u001B[39m\u001B[38;5;124m'\u001B[39m] \u001B[38;5;241m=\u001B[39m \u001B[38;5;124m\"\u001B[39m\u001B[38;5;124mTeen\u001B[39m\u001B[38;5;124m\"\u001B[39m\n",
      "\u001B[1;31mValueError\u001B[0m: invalid literal for int() with base 10: 'Adult'"
     ]
    }
   ],
   "source": [
    "for row in dob_df['birthDate']:\n",
    "    age = 2024 - int(row)\n",
    "    if age > 12 and age < 20:\n",
    "        dob_df['age_group'] = \"Teen\"\n",
    "    elif age <= 12:\n",
    "        dob_df['age_group'] = \"Child\"\n",
    "    elif age >= 20 and age <= 59:\n",
    "        dob_df['age_group'] = \"Adult\"\n",
    "    else:\n",
    "        dob_df['age_group'] = \"Senior\""
   ],
   "metadata": {
    "collapsed": false,
    "ExecuteTime": {
     "end_time": "2024-07-19T05:27:09.631856Z",
     "start_time": "2024-07-19T05:27:09.616980Z"
    }
   },
   "id": "4521aecff7ee1439",
   "execution_count": 111
  },
  {
   "cell_type": "code",
   "outputs": [],
   "source": [],
   "metadata": {
    "collapsed": false
   },
   "id": "3335a52a0791a39e"
  }
 ],
 "metadata": {
  "kernelspec": {
   "display_name": "Python 3",
   "language": "python",
   "name": "python3"
  },
  "language_info": {
   "codemirror_mode": {
    "name": "ipython",
    "version": 2
   },
   "file_extension": ".py",
   "mimetype": "text/x-python",
   "name": "python",
   "nbconvert_exporter": "python",
   "pygments_lexer": "ipython2",
   "version": "2.7.6"
  }
 },
 "nbformat": 4,
 "nbformat_minor": 5
}
